{
 "cells": [
  {
   "cell_type": "code",
   "execution_count": 1,
   "metadata": {},
   "outputs": [],
   "source": [
    "image_folder = \"/home/pina/Bilder/20190906-Toskana/\"\n",
    "output_folder = \"/home/pina/Bilder/20190906-Toskana-by-day/\"\n",
    "\n",
    "from exif import Image\n",
    "from datetime import datetime\n",
    "import os\n",
    "import sys\n",
    "import shutil\n",
    "import re\n",
    "filename_regex = r\"(?P<filename>.*)\\.(?P<extension>JPG|jpg|jpeg|PNG|png|tiff|tif|TIF|BMP|bmp)\"\n",
    "from IPython.display import clear_output"
   ]
  },
  {
   "cell_type": "code",
   "execution_count": 2,
   "metadata": {},
   "outputs": [],
   "source": [
    "image_count = 0\n",
    "for subfolder in os.listdir(image_folder):\n",
    "    for image in os.listdir(os.path.join(image_folder, subfolder)):\n",
    "        filename_matches = re.finditer(filename_regex, image, re.UNICODE)\n",
    "        filename, extension = None, None\n",
    "        for match in filename_matches:\n",
    "            filename, extension = match.groups()\n",
    "        if not filename or not extension:\n",
    "            continue\n",
    "        image_count += 1"
   ]
  },
  {
   "cell_type": "code",
   "execution_count": 3,
   "metadata": {},
   "outputs": [
    {
     "name": "stdout",
     "output_type": "stream",
     "text": [
      "[========================================] 100\n"
     ]
    }
   ],
   "source": [
    "progressbar_width = 40\n",
    "bar_str = \"[%s]\" % (\" \" * progressbar_width)\n",
    "sys.stdout.write(bar_str)\n",
    "sys.stdout.flush()\n",
    "sys.stdout.write(\"\\b\" * len(bar_str))\n",
    "copied_image_count = 0\n",
    "for subfolder in os.listdir(image_folder):\n",
    "    for image in os.listdir(os.path.join(image_folder, subfolder)):\n",
    "        filename_matches = re.finditer(filename_regex, image, re.UNICODE)\n",
    "        filename, extension = None, None\n",
    "        for match in filename_matches:\n",
    "            filename, extension = match.groups()\n",
    "        if not filename or not extension:\n",
    "            continue\n",
    "        with open(os.path.join(image_folder, subfolder, image), 'rb') as file:\n",
    "            image_obj = Image(file)\n",
    "        if image_obj.has_exif:\n",
    "            image_time = datetime.strptime(image_obj.datetime, \"%Y:%m:%d %H:%M:%S\")\n",
    "        else:\n",
    "            print(\"The file \" + os.path.join(image_folder, subfolder, image) + \"has no exif data.\")\n",
    "            image_time = os.path.getmtime(os.path.join(image_folder, subfolder, image))\n",
    "        day_str = image_time.strftime(\"%Y_%m_%d-%A\")\n",
    "        if not os.path.exists(os.path.join(output_folder, day_str)):\n",
    "            os.makedirs(os.path.join(output_folder, day_str))\n",
    "        shutil.copy2(\n",
    "            os.path.join(image_folder, subfolder, image),\n",
    "            os.path.join(output_folder, day_str, image_time.strftime(\"%H%M%S_\") + subfolder + \"_\" + filename + \".\" + extension.lower()))       \n",
    "        copied_image_count += 1\n",
    "        progress = copied_image_count / image_count\n",
    "        clear_output(wait = True)\n",
    "        bar_str = \"[%s] %d%%\" % (\n",
    "            \"=\" * int(progress*progressbar_width) + \" \" * (progressbar_width - int(progress*progressbar_width)), \n",
    "            (progress * 100))\n",
    "        sys.stdout.write(bar_str)\n",
    "        sys.stdout.flush()\n",
    "        sys.stdout.write(\"\\b\" * len(bar_str))\n",
    "sys.stdout.write(\"\\n\")"
   ]
  },
  {
   "cell_type": "code",
   "execution_count": null,
   "metadata": {},
   "outputs": [],
   "source": []
  }
 ],
 "metadata": {
  "kernelspec": {
   "display_name": "Python 3",
   "language": "python",
   "name": "python3"
  },
  "language_info": {
   "codemirror_mode": {
    "name": "ipython",
    "version": 3
   },
   "file_extension": ".py",
   "mimetype": "text/x-python",
   "name": "python",
   "nbconvert_exporter": "python",
   "pygments_lexer": "ipython3",
   "version": "3.7.3"
  }
 },
 "nbformat": 4,
 "nbformat_minor": 2
}
